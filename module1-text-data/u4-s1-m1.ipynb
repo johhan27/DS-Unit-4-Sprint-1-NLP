{
 "cells": [
  {
   "cell_type": "code",
   "execution_count": 6,
   "metadata": {},
   "outputs": [
    {
     "data": {
      "text/html": [
       "<div>\n",
       "<style scoped>\n",
       "    .dataframe tbody tr th:only-of-type {\n",
       "        vertical-align: middle;\n",
       "    }\n",
       "\n",
       "    .dataframe tbody tr th {\n",
       "        vertical-align: top;\n",
       "    }\n",
       "\n",
       "    .dataframe thead th {\n",
       "        text-align: right;\n",
       "    }\n",
       "</style>\n",
       "<table border=\"1\" class=\"dataframe\">\n",
       "  <thead>\n",
       "    <tr style=\"text-align: right;\">\n",
       "      <th></th>\n",
       "      <th>coffee_shop_name</th>\n",
       "      <th>full_review_text</th>\n",
       "      <th>star_rating</th>\n",
       "    </tr>\n",
       "  </thead>\n",
       "  <tbody>\n",
       "    <tr>\n",
       "      <th>0</th>\n",
       "      <td>The Factory - Cafe With a Soul</td>\n",
       "      <td>11/25/2016 1 check-in Love love loved the atm...</td>\n",
       "      <td>5.0 star rating</td>\n",
       "    </tr>\n",
       "    <tr>\n",
       "      <th>1</th>\n",
       "      <td>The Factory - Cafe With a Soul</td>\n",
       "      <td>12/2/2016 Listed in Date Night: Austin, Ambia...</td>\n",
       "      <td>4.0 star rating</td>\n",
       "    </tr>\n",
       "    <tr>\n",
       "      <th>2</th>\n",
       "      <td>The Factory - Cafe With a Soul</td>\n",
       "      <td>11/30/2016 1 check-in Listed in Brunch Spots ...</td>\n",
       "      <td>4.0 star rating</td>\n",
       "    </tr>\n",
       "    <tr>\n",
       "      <th>3</th>\n",
       "      <td>The Factory - Cafe With a Soul</td>\n",
       "      <td>11/25/2016 Very cool decor! Good drinks Nice ...</td>\n",
       "      <td>2.0 star rating</td>\n",
       "    </tr>\n",
       "    <tr>\n",
       "      <th>4</th>\n",
       "      <td>The Factory - Cafe With a Soul</td>\n",
       "      <td>12/3/2016 1 check-in They are located within ...</td>\n",
       "      <td>4.0 star rating</td>\n",
       "    </tr>\n",
       "  </tbody>\n",
       "</table>\n",
       "</div>"
      ],
      "text/plain": [
       "                  coffee_shop_name  \\\n",
       "0  The Factory - Cafe With a Soul    \n",
       "1  The Factory - Cafe With a Soul    \n",
       "2  The Factory - Cafe With a Soul    \n",
       "3  The Factory - Cafe With a Soul    \n",
       "4  The Factory - Cafe With a Soul    \n",
       "\n",
       "                                    full_review_text        star_rating  \n",
       "0   11/25/2016 1 check-in Love love loved the atm...   5.0 star rating   \n",
       "1   12/2/2016 Listed in Date Night: Austin, Ambia...   4.0 star rating   \n",
       "2   11/30/2016 1 check-in Listed in Brunch Spots ...   4.0 star rating   \n",
       "3   11/25/2016 Very cool decor! Good drinks Nice ...   2.0 star rating   \n",
       "4   12/3/2016 1 check-in They are located within ...   4.0 star rating   "
      ]
     },
     "execution_count": 6,
     "metadata": {},
     "output_type": "execute_result"
    }
   ],
   "source": [
    "import pandas as pd\n",
    "\n",
    "url = \"https://raw.githubusercontent.com/LambdaSchool/DS-Unit-4-Sprint-1-NLP/main/module1-text-data/data/yelp_coffeeshop_review_data.csv\"\n",
    "\n",
    "shops = pd.read_csv(url)\n",
    "shops.head()"
   ]
  },
  {
   "cell_type": "code",
   "execution_count": 53,
   "metadata": {},
   "outputs": [
    {
     "data": {
      "text/plain": [
       "79"
      ]
     },
     "execution_count": 53,
     "metadata": {},
     "output_type": "execute_result"
    }
   ],
   "source": [
    "len(shops[\"coffee_shop_name\"].value_counts())"
   ]
  },
  {
   "cell_type": "code",
   "execution_count": 7,
   "metadata": {},
   "outputs": [
    {
     "data": {
      "text/plain": [
       "Epoch Coffee                            400\n",
       "Halcyon                                 300\n",
       "The Factory - Cafe With a Soul          244\n",
       "Houndstooth Coffee                      200\n",
       "Venezia Italian Gelato                  200\n",
       "                                       ... \n",
       "Lucky Lab Coffee                         25\n",
       "Sister Coffee                            17\n",
       "Kowabunga Coffee                         16\n",
       "The Marvelous Vintage Tea Party Co.      10\n",
       "Lola Savannah Coffee Downtown             4\n",
       "Name: coffee_shop_name, Length: 79, dtype: int64"
      ]
     },
     "execution_count": 7,
     "metadata": {},
     "output_type": "execute_result"
    }
   ],
   "source": [
    "shops[\"coffee_shop_name\"].value_counts()"
   ]
  },
  {
   "cell_type": "code",
   "execution_count": 17,
   "metadata": {},
   "outputs": [
    {
     "data": {
      "text/plain": [
       " 5.0 star rating     3780\n",
       " 4.0 star rating     2360\n",
       " 3.0 star rating      738\n",
       " 2.0 star rating      460\n",
       " 1.0 star rating      278\n",
       "Name: star_rating, dtype: int64"
      ]
     },
     "execution_count": 17,
     "metadata": {},
     "output_type": "execute_result"
    }
   ],
   "source": [
    "shops[\"star_rating\"].value_counts()"
   ]
  },
  {
   "cell_type": "code",
   "execution_count": 13,
   "metadata": {},
   "outputs": [
    {
     "data": {
      "text/plain": [
       "str"
      ]
     },
     "execution_count": 13,
     "metadata": {},
     "output_type": "execute_result"
    }
   ],
   "source": [
    "type(shops.star_rating.iloc[1])"
   ]
  },
  {
   "cell_type": "code",
   "execution_count": 18,
   "metadata": {},
   "outputs": [
    {
     "data": {
      "text/plain": [
       "coffee_shop_name    0\n",
       "full_review_text    0\n",
       "star_rating         0\n",
       "dtype: int64"
      ]
     },
     "execution_count": 18,
     "metadata": {},
     "output_type": "execute_result"
    }
   ],
   "source": [
    "shops.isnull().sum()"
   ]
  },
  {
   "cell_type": "code",
   "execution_count": 35,
   "metadata": {},
   "outputs": [],
   "source": [
    "def good_or_bad(star_rating):\n",
    "    if int(star_rating.lstrip()[0]) < 4:\n",
    "        return \"Bad\"\n",
    "    else:\n",
    "        return \"Good\""
   ]
  },
  {
   "cell_type": "code",
   "execution_count": 37,
   "metadata": {},
   "outputs": [
    {
     "name": "stdout",
     "output_type": "stream",
     "text": [
      "Good\n"
     ]
    }
   ],
   "source": [
    "print(good_or_bad(\"   5.0 star rating\"))"
   ]
  },
  {
   "cell_type": "code",
   "execution_count": 27,
   "metadata": {},
   "outputs": [
    {
     "data": {
      "text/plain": [
       " 5.0 star rating     3780\n",
       " 4.0 star rating     2360\n",
       " 3.0 star rating      738\n",
       " 2.0 star rating      460\n",
       " 1.0 star rating      278\n",
       "Name: star_rating, dtype: int64"
      ]
     },
     "execution_count": 27,
     "metadata": {},
     "output_type": "execute_result"
    }
   ],
   "source": [
    "shops[\"star_rating\"].value_counts()"
   ]
  },
  {
   "cell_type": "code",
   "execution_count": 38,
   "metadata": {},
   "outputs": [],
   "source": [
    "shops[\"Good/Bad\"] = shops[\"star_rating\"].apply(good_or_bad)"
   ]
  },
  {
   "cell_type": "code",
   "execution_count": 39,
   "metadata": {},
   "outputs": [
    {
     "data": {
      "text/plain": [
       "Good    6140\n",
       "Bad     1476\n",
       "Name: Good/Bad, dtype: int64"
      ]
     },
     "execution_count": 39,
     "metadata": {},
     "output_type": "execute_result"
    }
   ],
   "source": [
    "shops[\"Good/Bad\"].value_counts()"
   ]
  },
  {
   "cell_type": "code",
   "execution_count": 47,
   "metadata": {},
   "outputs": [],
   "source": [
    "import datetime\n",
    "\n",
    "def get_date(full_review_text):\n",
    "    input = \"\"\n",
    "    for number in full_review_text.lstrip().split()[0].split(\"/\"):\n",
    "        input+=str(number)+\"/\"\n",
    "    input = input[:-1]\n",
    "    format = '%m/%d/%Y'\n",
    "    return datetime.datetime.strptime(input, format)\n",
    "    \n",
    "    "
   ]
  },
  {
   "cell_type": "code",
   "execution_count": 46,
   "metadata": {},
   "outputs": [
    {
     "name": "stdout",
     "output_type": "stream",
     "text": [
      "1/0/1/2/3/4\n"
     ]
    }
   ],
   "source": [
    "a=\"1\"\n",
    "for i in [0,1,2,3,4]:\n",
    "    a+=\"/\"+str(i)\n",
    "print (a)"
   ]
  },
  {
   "cell_type": "code",
   "execution_count": 48,
   "metadata": {},
   "outputs": [
    {
     "name": "stdout",
     "output_type": "stream",
     "text": [
      "2016-11-25 00:00:00\n"
     ]
    }
   ],
   "source": [
    "print(get_date(shops[\"full_review_text\"].iloc[0]))"
   ]
  },
  {
   "cell_type": "code",
   "execution_count": 49,
   "metadata": {},
   "outputs": [],
   "source": [
    "shops[\"Date\"] = shops[\"full_review_text\"].apply(get_date)"
   ]
  },
  {
   "cell_type": "code",
   "execution_count": 50,
   "metadata": {},
   "outputs": [
    {
     "data": {
      "text/html": [
       "<div>\n",
       "<style scoped>\n",
       "    .dataframe tbody tr th:only-of-type {\n",
       "        vertical-align: middle;\n",
       "    }\n",
       "\n",
       "    .dataframe tbody tr th {\n",
       "        vertical-align: top;\n",
       "    }\n",
       "\n",
       "    .dataframe thead th {\n",
       "        text-align: right;\n",
       "    }\n",
       "</style>\n",
       "<table border=\"1\" class=\"dataframe\">\n",
       "  <thead>\n",
       "    <tr style=\"text-align: right;\">\n",
       "      <th></th>\n",
       "      <th>coffee_shop_name</th>\n",
       "      <th>full_review_text</th>\n",
       "      <th>star_rating</th>\n",
       "      <th>Good/Bad</th>\n",
       "      <th>Date</th>\n",
       "    </tr>\n",
       "  </thead>\n",
       "  <tbody>\n",
       "    <tr>\n",
       "      <th>0</th>\n",
       "      <td>The Factory - Cafe With a Soul</td>\n",
       "      <td>11/25/2016 1 check-in Love love loved the atm...</td>\n",
       "      <td>5.0 star rating</td>\n",
       "      <td>Good</td>\n",
       "      <td>2016-11-25</td>\n",
       "    </tr>\n",
       "    <tr>\n",
       "      <th>1</th>\n",
       "      <td>The Factory - Cafe With a Soul</td>\n",
       "      <td>12/2/2016 Listed in Date Night: Austin, Ambia...</td>\n",
       "      <td>4.0 star rating</td>\n",
       "      <td>Good</td>\n",
       "      <td>2016-12-02</td>\n",
       "    </tr>\n",
       "    <tr>\n",
       "      <th>2</th>\n",
       "      <td>The Factory - Cafe With a Soul</td>\n",
       "      <td>11/30/2016 1 check-in Listed in Brunch Spots ...</td>\n",
       "      <td>4.0 star rating</td>\n",
       "      <td>Good</td>\n",
       "      <td>2016-11-30</td>\n",
       "    </tr>\n",
       "    <tr>\n",
       "      <th>3</th>\n",
       "      <td>The Factory - Cafe With a Soul</td>\n",
       "      <td>11/25/2016 Very cool decor! Good drinks Nice ...</td>\n",
       "      <td>2.0 star rating</td>\n",
       "      <td>Bad</td>\n",
       "      <td>2016-11-25</td>\n",
       "    </tr>\n",
       "    <tr>\n",
       "      <th>4</th>\n",
       "      <td>The Factory - Cafe With a Soul</td>\n",
       "      <td>12/3/2016 1 check-in They are located within ...</td>\n",
       "      <td>4.0 star rating</td>\n",
       "      <td>Good</td>\n",
       "      <td>2016-12-03</td>\n",
       "    </tr>\n",
       "  </tbody>\n",
       "</table>\n",
       "</div>"
      ],
      "text/plain": [
       "                  coffee_shop_name  \\\n",
       "0  The Factory - Cafe With a Soul    \n",
       "1  The Factory - Cafe With a Soul    \n",
       "2  The Factory - Cafe With a Soul    \n",
       "3  The Factory - Cafe With a Soul    \n",
       "4  The Factory - Cafe With a Soul    \n",
       "\n",
       "                                    full_review_text        star_rating  \\\n",
       "0   11/25/2016 1 check-in Love love loved the atm...   5.0 star rating    \n",
       "1   12/2/2016 Listed in Date Night: Austin, Ambia...   4.0 star rating    \n",
       "2   11/30/2016 1 check-in Listed in Brunch Spots ...   4.0 star rating    \n",
       "3   11/25/2016 Very cool decor! Good drinks Nice ...   2.0 star rating    \n",
       "4   12/3/2016 1 check-in They are located within ...   4.0 star rating    \n",
       "\n",
       "  Good/Bad       Date  \n",
       "0     Good 2016-11-25  \n",
       "1     Good 2016-12-02  \n",
       "2     Good 2016-11-30  \n",
       "3      Bad 2016-11-25  \n",
       "4     Good 2016-12-03  "
      ]
     },
     "execution_count": 50,
     "metadata": {},
     "output_type": "execute_result"
    }
   ],
   "source": [
    "shops.head()"
   ]
  },
  {
   "cell_type": "code",
   "execution_count": 54,
   "metadata": {},
   "outputs": [],
   "source": [
    "def get_numeric_rating(star_rating):\n",
    "    return int(star_rating.lstrip()[0])        \n",
    "    "
   ]
  },
  {
   "cell_type": "code",
   "execution_count": 58,
   "metadata": {},
   "outputs": [
    {
     "name": "stdout",
     "output_type": "stream",
     "text": [
      "5\n"
     ]
    }
   ],
   "source": [
    "print (get_numeric_rating(shops[\"star_rating\"].iloc[0]))"
   ]
  },
  {
   "cell_type": "code",
   "execution_count": 59,
   "metadata": {},
   "outputs": [],
   "source": [
    "shops['Rating'] = shops[\"star_rating\"].apply(get_numeric_rating)"
   ]
  },
  {
   "cell_type": "code",
   "execution_count": 60,
   "metadata": {},
   "outputs": [
    {
     "data": {
      "text/html": [
       "<div>\n",
       "<style scoped>\n",
       "    .dataframe tbody tr th:only-of-type {\n",
       "        vertical-align: middle;\n",
       "    }\n",
       "\n",
       "    .dataframe tbody tr th {\n",
       "        vertical-align: top;\n",
       "    }\n",
       "\n",
       "    .dataframe thead th {\n",
       "        text-align: right;\n",
       "    }\n",
       "</style>\n",
       "<table border=\"1\" class=\"dataframe\">\n",
       "  <thead>\n",
       "    <tr style=\"text-align: right;\">\n",
       "      <th></th>\n",
       "      <th>coffee_shop_name</th>\n",
       "      <th>full_review_text</th>\n",
       "      <th>star_rating</th>\n",
       "      <th>Good/Bad</th>\n",
       "      <th>Date</th>\n",
       "      <th>Rating</th>\n",
       "    </tr>\n",
       "  </thead>\n",
       "  <tbody>\n",
       "    <tr>\n",
       "      <th>0</th>\n",
       "      <td>The Factory - Cafe With a Soul</td>\n",
       "      <td>11/25/2016 1 check-in Love love loved the atm...</td>\n",
       "      <td>5.0 star rating</td>\n",
       "      <td>Good</td>\n",
       "      <td>2016-11-25</td>\n",
       "      <td>5</td>\n",
       "    </tr>\n",
       "    <tr>\n",
       "      <th>1</th>\n",
       "      <td>The Factory - Cafe With a Soul</td>\n",
       "      <td>12/2/2016 Listed in Date Night: Austin, Ambia...</td>\n",
       "      <td>4.0 star rating</td>\n",
       "      <td>Good</td>\n",
       "      <td>2016-12-02</td>\n",
       "      <td>4</td>\n",
       "    </tr>\n",
       "    <tr>\n",
       "      <th>2</th>\n",
       "      <td>The Factory - Cafe With a Soul</td>\n",
       "      <td>11/30/2016 1 check-in Listed in Brunch Spots ...</td>\n",
       "      <td>4.0 star rating</td>\n",
       "      <td>Good</td>\n",
       "      <td>2016-11-30</td>\n",
       "      <td>4</td>\n",
       "    </tr>\n",
       "    <tr>\n",
       "      <th>3</th>\n",
       "      <td>The Factory - Cafe With a Soul</td>\n",
       "      <td>11/25/2016 Very cool decor! Good drinks Nice ...</td>\n",
       "      <td>2.0 star rating</td>\n",
       "      <td>Bad</td>\n",
       "      <td>2016-11-25</td>\n",
       "      <td>2</td>\n",
       "    </tr>\n",
       "    <tr>\n",
       "      <th>4</th>\n",
       "      <td>The Factory - Cafe With a Soul</td>\n",
       "      <td>12/3/2016 1 check-in They are located within ...</td>\n",
       "      <td>4.0 star rating</td>\n",
       "      <td>Good</td>\n",
       "      <td>2016-12-03</td>\n",
       "      <td>4</td>\n",
       "    </tr>\n",
       "  </tbody>\n",
       "</table>\n",
       "</div>"
      ],
      "text/plain": [
       "                  coffee_shop_name  \\\n",
       "0  The Factory - Cafe With a Soul    \n",
       "1  The Factory - Cafe With a Soul    \n",
       "2  The Factory - Cafe With a Soul    \n",
       "3  The Factory - Cafe With a Soul    \n",
       "4  The Factory - Cafe With a Soul    \n",
       "\n",
       "                                    full_review_text        star_rating  \\\n",
       "0   11/25/2016 1 check-in Love love loved the atm...   5.0 star rating    \n",
       "1   12/2/2016 Listed in Date Night: Austin, Ambia...   4.0 star rating    \n",
       "2   11/30/2016 1 check-in Listed in Brunch Spots ...   4.0 star rating    \n",
       "3   11/25/2016 Very cool decor! Good drinks Nice ...   2.0 star rating    \n",
       "4   12/3/2016 1 check-in They are located within ...   4.0 star rating    \n",
       "\n",
       "  Good/Bad       Date  Rating  \n",
       "0     Good 2016-11-25       5  \n",
       "1     Good 2016-12-02       4  \n",
       "2     Good 2016-11-30       4  \n",
       "3      Bad 2016-11-25       2  \n",
       "4     Good 2016-12-03       4  "
      ]
     },
     "execution_count": 60,
     "metadata": {},
     "output_type": "execute_result"
    }
   ],
   "source": [
    "shops.head()"
   ]
  },
  {
   "cell_type": "code",
   "execution_count": 69,
   "metadata": {},
   "outputs": [],
   "source": [
    "import re\n",
    "\n",
    "def only_alphanum_lower_shrink(coffee_shop_name):\n",
    "    alphanum = re.sub('[^a-zA-Z 0-9]', '', coffee_shop_name)\n",
    "    alphanum = re.sub(r\"\\s+\", \"\", alphanum)\n",
    "    return alphanum.lower()"
   ]
  },
  {
   "cell_type": "code",
   "execution_count": 70,
   "metadata": {},
   "outputs": [
    {
     "name": "stdout",
     "output_type": "stream",
     "text": [
      "thefactorycafewithasoul\n"
     ]
    }
   ],
   "source": [
    "print(only_alphanum_lower_strip(shops[\"coffee_shop_name\"].iloc[0]))"
   ]
  },
  {
   "cell_type": "code",
   "execution_count": 71,
   "metadata": {},
   "outputs": [],
   "source": [
    "shops[\"Name\"] = shops[\"coffee_shop_name\"].apply(only_alphanum_lower_shrink)"
   ]
  },
  {
   "cell_type": "code",
   "execution_count": 72,
   "metadata": {},
   "outputs": [
    {
     "data": {
      "text/html": [
       "<div>\n",
       "<style scoped>\n",
       "    .dataframe tbody tr th:only-of-type {\n",
       "        vertical-align: middle;\n",
       "    }\n",
       "\n",
       "    .dataframe tbody tr th {\n",
       "        vertical-align: top;\n",
       "    }\n",
       "\n",
       "    .dataframe thead th {\n",
       "        text-align: right;\n",
       "    }\n",
       "</style>\n",
       "<table border=\"1\" class=\"dataframe\">\n",
       "  <thead>\n",
       "    <tr style=\"text-align: right;\">\n",
       "      <th></th>\n",
       "      <th>coffee_shop_name</th>\n",
       "      <th>full_review_text</th>\n",
       "      <th>star_rating</th>\n",
       "      <th>Good/Bad</th>\n",
       "      <th>Date</th>\n",
       "      <th>Rating</th>\n",
       "      <th>Name</th>\n",
       "    </tr>\n",
       "  </thead>\n",
       "  <tbody>\n",
       "    <tr>\n",
       "      <th>0</th>\n",
       "      <td>The Factory - Cafe With a Soul</td>\n",
       "      <td>11/25/2016 1 check-in Love love loved the atm...</td>\n",
       "      <td>5.0 star rating</td>\n",
       "      <td>Good</td>\n",
       "      <td>2016-11-25</td>\n",
       "      <td>5</td>\n",
       "      <td>thefactorycafewithasoul</td>\n",
       "    </tr>\n",
       "    <tr>\n",
       "      <th>1</th>\n",
       "      <td>The Factory - Cafe With a Soul</td>\n",
       "      <td>12/2/2016 Listed in Date Night: Austin, Ambia...</td>\n",
       "      <td>4.0 star rating</td>\n",
       "      <td>Good</td>\n",
       "      <td>2016-12-02</td>\n",
       "      <td>4</td>\n",
       "      <td>thefactorycafewithasoul</td>\n",
       "    </tr>\n",
       "    <tr>\n",
       "      <th>2</th>\n",
       "      <td>The Factory - Cafe With a Soul</td>\n",
       "      <td>11/30/2016 1 check-in Listed in Brunch Spots ...</td>\n",
       "      <td>4.0 star rating</td>\n",
       "      <td>Good</td>\n",
       "      <td>2016-11-30</td>\n",
       "      <td>4</td>\n",
       "      <td>thefactorycafewithasoul</td>\n",
       "    </tr>\n",
       "    <tr>\n",
       "      <th>3</th>\n",
       "      <td>The Factory - Cafe With a Soul</td>\n",
       "      <td>11/25/2016 Very cool decor! Good drinks Nice ...</td>\n",
       "      <td>2.0 star rating</td>\n",
       "      <td>Bad</td>\n",
       "      <td>2016-11-25</td>\n",
       "      <td>2</td>\n",
       "      <td>thefactorycafewithasoul</td>\n",
       "    </tr>\n",
       "    <tr>\n",
       "      <th>4</th>\n",
       "      <td>The Factory - Cafe With a Soul</td>\n",
       "      <td>12/3/2016 1 check-in They are located within ...</td>\n",
       "      <td>4.0 star rating</td>\n",
       "      <td>Good</td>\n",
       "      <td>2016-12-03</td>\n",
       "      <td>4</td>\n",
       "      <td>thefactorycafewithasoul</td>\n",
       "    </tr>\n",
       "  </tbody>\n",
       "</table>\n",
       "</div>"
      ],
      "text/plain": [
       "                  coffee_shop_name  \\\n",
       "0  The Factory - Cafe With a Soul    \n",
       "1  The Factory - Cafe With a Soul    \n",
       "2  The Factory - Cafe With a Soul    \n",
       "3  The Factory - Cafe With a Soul    \n",
       "4  The Factory - Cafe With a Soul    \n",
       "\n",
       "                                    full_review_text        star_rating  \\\n",
       "0   11/25/2016 1 check-in Love love loved the atm...   5.0 star rating    \n",
       "1   12/2/2016 Listed in Date Night: Austin, Ambia...   4.0 star rating    \n",
       "2   11/30/2016 1 check-in Listed in Brunch Spots ...   4.0 star rating    \n",
       "3   11/25/2016 Very cool decor! Good drinks Nice ...   2.0 star rating    \n",
       "4   12/3/2016 1 check-in They are located within ...   4.0 star rating    \n",
       "\n",
       "  Good/Bad       Date  Rating                     Name  \n",
       "0     Good 2016-11-25       5  thefactorycafewithasoul  \n",
       "1     Good 2016-12-02       4  thefactorycafewithasoul  \n",
       "2     Good 2016-11-30       4  thefactorycafewithasoul  \n",
       "3      Bad 2016-11-25       2  thefactorycafewithasoul  \n",
       "4     Good 2016-12-03       4  thefactorycafewithasoul  "
      ]
     },
     "execution_count": 72,
     "metadata": {},
     "output_type": "execute_result"
    }
   ],
   "source": [
    "shops.head()"
   ]
  },
  {
   "cell_type": "code",
   "execution_count": 73,
   "metadata": {},
   "outputs": [
    {
     "data": {
      "text/plain": [
       "78"
      ]
     },
     "execution_count": 73,
     "metadata": {},
     "output_type": "execute_result"
    }
   ],
   "source": [
    "len(shops[\"Name\"].value_counts())"
   ]
  },
  {
   "cell_type": "code",
   "execution_count": 74,
   "metadata": {},
   "outputs": [],
   "source": [
    "#1 of the names was miswritten"
   ]
  },
  {
   "cell_type": "code",
   "execution_count": 77,
   "metadata": {},
   "outputs": [],
   "source": [
    "def tokenize(full_review_text):\n",
    "    output = full_review_text.lstrip().split()[1:] #no-date iterable\n",
    "    output = \" \".join(output)\n",
    "    output = re.sub('[^a-zA-Z 0-9]', \"\", output)\n",
    "    return output.lower().split()\n",
    "    "
   ]
  },
  {
   "cell_type": "code",
   "execution_count": 78,
   "metadata": {},
   "outputs": [
    {
     "name": "stdout",
     "output_type": "stream",
     "text": [
      "['1', 'checkin', 'love', 'love', 'loved', 'the', 'atmosphere', 'every', 'corner', 'of', 'the', 'coffee', 'shop', 'had', 'its', 'own', 'style', 'and', 'there', 'were', 'swings', 'i', 'ordered', 'the', 'matcha', 'latte', 'and', 'it', 'was', 'muy', 'fantastico', 'ordering', 'and', 'getting', 'my', 'drink', 'were', 'pretty', 'streamlined', 'i', 'ordered', 'on', 'an', 'ipad', 'which', 'included', 'all', 'beverage', 'selections', 'that', 'ranged', 'from', 'coffee', 'to', 'wine', 'desired', 'level', 'of', 'sweetness', 'and', 'a', 'checkout', 'system', 'i', 'got', 'my', 'latte', 'within', 'minutes', 'i', 'was', 'hoping', 'for', 'a', 'typical', 'heart', 'or', 'feather', 'on', 'my', 'latte', 'but', 'found', 'myself', 'listing', 'out', 'all', 'the', 'possibilities', 'of', 'what', 'the', 'art', 'may', 'be', 'any', 'ideas']\n"
     ]
    }
   ],
   "source": [
    "print(tokenize(shops[\"full_review_text\"].iloc[0]))"
   ]
  },
  {
   "cell_type": "code",
   "execution_count": 79,
   "metadata": {},
   "outputs": [],
   "source": [
    "shops['Tokens'] = shops['full_review_text'].apply(tokenize)"
   ]
  },
  {
   "cell_type": "code",
   "execution_count": 80,
   "metadata": {},
   "outputs": [
    {
     "data": {
      "text/html": [
       "<div>\n",
       "<style scoped>\n",
       "    .dataframe tbody tr th:only-of-type {\n",
       "        vertical-align: middle;\n",
       "    }\n",
       "\n",
       "    .dataframe tbody tr th {\n",
       "        vertical-align: top;\n",
       "    }\n",
       "\n",
       "    .dataframe thead th {\n",
       "        text-align: right;\n",
       "    }\n",
       "</style>\n",
       "<table border=\"1\" class=\"dataframe\">\n",
       "  <thead>\n",
       "    <tr style=\"text-align: right;\">\n",
       "      <th></th>\n",
       "      <th>coffee_shop_name</th>\n",
       "      <th>full_review_text</th>\n",
       "      <th>star_rating</th>\n",
       "      <th>Good/Bad</th>\n",
       "      <th>Date</th>\n",
       "      <th>Rating</th>\n",
       "      <th>Name</th>\n",
       "      <th>Tokens</th>\n",
       "    </tr>\n",
       "  </thead>\n",
       "  <tbody>\n",
       "    <tr>\n",
       "      <th>0</th>\n",
       "      <td>The Factory - Cafe With a Soul</td>\n",
       "      <td>11/25/2016 1 check-in Love love loved the atm...</td>\n",
       "      <td>5.0 star rating</td>\n",
       "      <td>Good</td>\n",
       "      <td>2016-11-25</td>\n",
       "      <td>5</td>\n",
       "      <td>thefactorycafewithasoul</td>\n",
       "      <td>[1, checkin, love, love, loved, the, atmospher...</td>\n",
       "    </tr>\n",
       "    <tr>\n",
       "      <th>1</th>\n",
       "      <td>The Factory - Cafe With a Soul</td>\n",
       "      <td>12/2/2016 Listed in Date Night: Austin, Ambia...</td>\n",
       "      <td>4.0 star rating</td>\n",
       "      <td>Good</td>\n",
       "      <td>2016-12-02</td>\n",
       "      <td>4</td>\n",
       "      <td>thefactorycafewithasoul</td>\n",
       "      <td>[listed, in, date, night, austin, ambiance, in...</td>\n",
       "    </tr>\n",
       "    <tr>\n",
       "      <th>2</th>\n",
       "      <td>The Factory - Cafe With a Soul</td>\n",
       "      <td>11/30/2016 1 check-in Listed in Brunch Spots ...</td>\n",
       "      <td>4.0 star rating</td>\n",
       "      <td>Good</td>\n",
       "      <td>2016-11-30</td>\n",
       "      <td>4</td>\n",
       "      <td>thefactorycafewithasoul</td>\n",
       "      <td>[1, checkin, listed, in, brunch, spots, i, lov...</td>\n",
       "    </tr>\n",
       "    <tr>\n",
       "      <th>3</th>\n",
       "      <td>The Factory - Cafe With a Soul</td>\n",
       "      <td>11/25/2016 Very cool decor! Good drinks Nice ...</td>\n",
       "      <td>2.0 star rating</td>\n",
       "      <td>Bad</td>\n",
       "      <td>2016-11-25</td>\n",
       "      <td>2</td>\n",
       "      <td>thefactorycafewithasoul</td>\n",
       "      <td>[very, cool, decor, good, drinks, nice, seatin...</td>\n",
       "    </tr>\n",
       "    <tr>\n",
       "      <th>4</th>\n",
       "      <td>The Factory - Cafe With a Soul</td>\n",
       "      <td>12/3/2016 1 check-in They are located within ...</td>\n",
       "      <td>4.0 star rating</td>\n",
       "      <td>Good</td>\n",
       "      <td>2016-12-03</td>\n",
       "      <td>4</td>\n",
       "      <td>thefactorycafewithasoul</td>\n",
       "      <td>[1, checkin, they, are, located, within, the, ...</td>\n",
       "    </tr>\n",
       "  </tbody>\n",
       "</table>\n",
       "</div>"
      ],
      "text/plain": [
       "                  coffee_shop_name  \\\n",
       "0  The Factory - Cafe With a Soul    \n",
       "1  The Factory - Cafe With a Soul    \n",
       "2  The Factory - Cafe With a Soul    \n",
       "3  The Factory - Cafe With a Soul    \n",
       "4  The Factory - Cafe With a Soul    \n",
       "\n",
       "                                    full_review_text        star_rating  \\\n",
       "0   11/25/2016 1 check-in Love love loved the atm...   5.0 star rating    \n",
       "1   12/2/2016 Listed in Date Night: Austin, Ambia...   4.0 star rating    \n",
       "2   11/30/2016 1 check-in Listed in Brunch Spots ...   4.0 star rating    \n",
       "3   11/25/2016 Very cool decor! Good drinks Nice ...   2.0 star rating    \n",
       "4   12/3/2016 1 check-in They are located within ...   4.0 star rating    \n",
       "\n",
       "  Good/Bad       Date  Rating                     Name  \\\n",
       "0     Good 2016-11-25       5  thefactorycafewithasoul   \n",
       "1     Good 2016-12-02       4  thefactorycafewithasoul   \n",
       "2     Good 2016-11-30       4  thefactorycafewithasoul   \n",
       "3      Bad 2016-11-25       2  thefactorycafewithasoul   \n",
       "4     Good 2016-12-03       4  thefactorycafewithasoul   \n",
       "\n",
       "                                              Tokens  \n",
       "0  [1, checkin, love, love, loved, the, atmospher...  \n",
       "1  [listed, in, date, night, austin, ambiance, in...  \n",
       "2  [1, checkin, listed, in, brunch, spots, i, lov...  \n",
       "3  [very, cool, decor, good, drinks, nice, seatin...  \n",
       "4  [1, checkin, they, are, located, within, the, ...  "
      ]
     },
     "execution_count": 80,
     "metadata": {},
     "output_type": "execute_result"
    }
   ],
   "source": [
    "shops.head()"
   ]
  },
  {
   "cell_type": "code",
   "execution_count": 90,
   "metadata": {},
   "outputs": [
    {
     "data": {
      "text/html": [
       "<div>\n",
       "<style scoped>\n",
       "    .dataframe tbody tr th:only-of-type {\n",
       "        vertical-align: middle;\n",
       "    }\n",
       "\n",
       "    .dataframe tbody tr th {\n",
       "        vertical-align: top;\n",
       "    }\n",
       "\n",
       "    .dataframe thead th {\n",
       "        text-align: right;\n",
       "    }\n",
       "</style>\n",
       "<table border=\"1\" class=\"dataframe\">\n",
       "  <thead>\n",
       "    <tr style=\"text-align: right;\">\n",
       "      <th></th>\n",
       "      <th>coffee_shop_name</th>\n",
       "      <th>full_review_text</th>\n",
       "      <th>star_rating</th>\n",
       "      <th>Good/Bad</th>\n",
       "      <th>Date</th>\n",
       "      <th>Rating</th>\n",
       "      <th>Name</th>\n",
       "      <th>Tokens</th>\n",
       "    </tr>\n",
       "  </thead>\n",
       "  <tbody>\n",
       "    <tr>\n",
       "      <th>10</th>\n",
       "      <td>The Factory - Cafe With a Soul</td>\n",
       "      <td>10/22/2016 1 check-in Listed in Americano Thi...</td>\n",
       "      <td>4.0 star rating</td>\n",
       "      <td>Good</td>\n",
       "      <td>2016-10-22</td>\n",
       "      <td>4</td>\n",
       "      <td>thefactorycafewithasoul</td>\n",
       "      <td>[1, checkin, listed, in, americano, this, is, ...</td>\n",
       "    </tr>\n",
       "    <tr>\n",
       "      <th>1111</th>\n",
       "      <td>The Factory - Cafe With a Soul</td>\n",
       "      <td>10/22/2016 1 check-in Listed in Americano Thi...</td>\n",
       "      <td>4.0 star rating</td>\n",
       "      <td>Good</td>\n",
       "      <td>2016-10-22</td>\n",
       "      <td>4</td>\n",
       "      <td>thefactorycafewithasoul</td>\n",
       "      <td>[1, checkin, listed, in, americano, this, is, ...</td>\n",
       "    </tr>\n",
       "    <tr>\n",
       "      <th>2018</th>\n",
       "      <td>The Factory - Cafe With a Soul</td>\n",
       "      <td>10/22/2016 1 check-in Listed in Americano Thi...</td>\n",
       "      <td>4.0 star rating</td>\n",
       "      <td>Good</td>\n",
       "      <td>2016-10-22</td>\n",
       "      <td>4</td>\n",
       "      <td>thefactorycafewithasoul</td>\n",
       "      <td>[1, checkin, listed, in, americano, this, is, ...</td>\n",
       "    </tr>\n",
       "    <tr>\n",
       "      <th>3116</th>\n",
       "      <td>The Factory - Cafe With a Soul</td>\n",
       "      <td>10/22/2016 1 check-in Listed in Americano Thi...</td>\n",
       "      <td>4.0 star rating</td>\n",
       "      <td>Good</td>\n",
       "      <td>2016-10-22</td>\n",
       "      <td>4</td>\n",
       "      <td>thefactorycafewithasoul</td>\n",
       "      <td>[1, checkin, listed, in, americano, this, is, ...</td>\n",
       "    </tr>\n",
       "  </tbody>\n",
       "</table>\n",
       "</div>"
      ],
      "text/plain": [
       "                     coffee_shop_name  \\\n",
       "10    The Factory - Cafe With a Soul    \n",
       "1111  The Factory - Cafe With a Soul    \n",
       "2018  The Factory - Cafe With a Soul    \n",
       "3116  The Factory - Cafe With a Soul    \n",
       "\n",
       "                                       full_review_text        star_rating  \\\n",
       "10     10/22/2016 1 check-in Listed in Americano Thi...   4.0 star rating    \n",
       "1111   10/22/2016 1 check-in Listed in Americano Thi...   4.0 star rating    \n",
       "2018   10/22/2016 1 check-in Listed in Americano Thi...   4.0 star rating    \n",
       "3116   10/22/2016 1 check-in Listed in Americano Thi...   4.0 star rating    \n",
       "\n",
       "     Good/Bad       Date  Rating                     Name  \\\n",
       "10       Good 2016-10-22       4  thefactorycafewithasoul   \n",
       "1111     Good 2016-10-22       4  thefactorycafewithasoul   \n",
       "2018     Good 2016-10-22       4  thefactorycafewithasoul   \n",
       "3116     Good 2016-10-22       4  thefactorycafewithasoul   \n",
       "\n",
       "                                                 Tokens  \n",
       "10    [1, checkin, listed, in, americano, this, is, ...  \n",
       "1111  [1, checkin, listed, in, americano, this, is, ...  \n",
       "2018  [1, checkin, listed, in, americano, this, is, ...  \n",
       "3116  [1, checkin, listed, in, americano, this, is, ...  "
      ]
     },
     "execution_count": 90,
     "metadata": {},
     "output_type": "execute_result"
    }
   ],
   "source": [
    "shops[shops['full_review_text'] == shops['full_review_text'].iloc[10]] #duplicate reviews?"
   ]
  },
  {
   "cell_type": "code",
   "execution_count": 92,
   "metadata": {},
   "outputs": [
    {
     "data": {
      "text/plain": [
       "6915"
      ]
     },
     "execution_count": 92,
     "metadata": {},
     "output_type": "execute_result"
    }
   ],
   "source": [
    "len(shops['full_review_text'].unique())"
   ]
  },
  {
   "cell_type": "code",
   "execution_count": 95,
   "metadata": {},
   "outputs": [
    {
     "data": {
      "text/plain": [
       "7616"
      ]
     },
     "execution_count": 95,
     "metadata": {},
     "output_type": "execute_result"
    }
   ],
   "source": [
    "len(shops['full_review_text'])"
   ]
  },
  {
   "cell_type": "code",
   "execution_count": 96,
   "metadata": {},
   "outputs": [
    {
     "data": {
      "text/plain": [
       "(7616, 8)"
      ]
     },
     "execution_count": 96,
     "metadata": {},
     "output_type": "execute_result"
    }
   ],
   "source": [
    "shops.shape #original shape"
   ]
  },
  {
   "cell_type": "code",
   "execution_count": 107,
   "metadata": {},
   "outputs": [],
   "source": [
    "shops_raw = shops.drop('Tokens', 1) #dropping tokens since it's not hashable to drop duplicates\n",
    "unique_shops = shops_raw.drop_duplicates()"
   ]
  },
  {
   "cell_type": "code",
   "execution_count": 108,
   "metadata": {},
   "outputs": [
    {
     "data": {
      "text/plain": [
       "(6915, 7)"
      ]
     },
     "execution_count": 108,
     "metadata": {},
     "output_type": "execute_result"
    }
   ],
   "source": [
    "unique_shops.shape #confirms that we have duplicates, so we'll work with this"
   ]
  },
  {
   "cell_type": "code",
   "execution_count": 109,
   "metadata": {},
   "outputs": [
    {
     "name": "stderr",
     "output_type": "stream",
     "text": [
      "/anaconda2/envs/U4-S1-NLP/lib/python3.7/site-packages/ipykernel_launcher.py:1: SettingWithCopyWarning: \n",
      "A value is trying to be set on a copy of a slice from a DataFrame.\n",
      "Try using .loc[row_indexer,col_indexer] = value instead\n",
      "\n",
      "See the caveats in the documentation: https://pandas.pydata.org/pandas-docs/stable/user_guide/indexing.html#returning-a-view-versus-a-copy\n",
      "  \"\"\"Entry point for launching an IPython kernel.\n"
     ]
    }
   ],
   "source": [
    "unique_shops['Tokens'] = unique_shops['full_review_text'].apply(tokenize) #??? , but it works"
   ]
  },
  {
   "cell_type": "code",
   "execution_count": 110,
   "metadata": {},
   "outputs": [
    {
     "data": {
      "text/html": [
       "<div>\n",
       "<style scoped>\n",
       "    .dataframe tbody tr th:only-of-type {\n",
       "        vertical-align: middle;\n",
       "    }\n",
       "\n",
       "    .dataframe tbody tr th {\n",
       "        vertical-align: top;\n",
       "    }\n",
       "\n",
       "    .dataframe thead th {\n",
       "        text-align: right;\n",
       "    }\n",
       "</style>\n",
       "<table border=\"1\" class=\"dataframe\">\n",
       "  <thead>\n",
       "    <tr style=\"text-align: right;\">\n",
       "      <th></th>\n",
       "      <th>coffee_shop_name</th>\n",
       "      <th>full_review_text</th>\n",
       "      <th>star_rating</th>\n",
       "      <th>Good/Bad</th>\n",
       "      <th>Date</th>\n",
       "      <th>Rating</th>\n",
       "      <th>Name</th>\n",
       "      <th>Tokens</th>\n",
       "    </tr>\n",
       "  </thead>\n",
       "  <tbody>\n",
       "    <tr>\n",
       "      <th>0</th>\n",
       "      <td>The Factory - Cafe With a Soul</td>\n",
       "      <td>11/25/2016 1 check-in Love love loved the atm...</td>\n",
       "      <td>5.0 star rating</td>\n",
       "      <td>Good</td>\n",
       "      <td>2016-11-25</td>\n",
       "      <td>5</td>\n",
       "      <td>thefactorycafewithasoul</td>\n",
       "      <td>[1, checkin, love, love, loved, the, atmospher...</td>\n",
       "    </tr>\n",
       "    <tr>\n",
       "      <th>1</th>\n",
       "      <td>The Factory - Cafe With a Soul</td>\n",
       "      <td>12/2/2016 Listed in Date Night: Austin, Ambia...</td>\n",
       "      <td>4.0 star rating</td>\n",
       "      <td>Good</td>\n",
       "      <td>2016-12-02</td>\n",
       "      <td>4</td>\n",
       "      <td>thefactorycafewithasoul</td>\n",
       "      <td>[listed, in, date, night, austin, ambiance, in...</td>\n",
       "    </tr>\n",
       "    <tr>\n",
       "      <th>2</th>\n",
       "      <td>The Factory - Cafe With a Soul</td>\n",
       "      <td>11/30/2016 1 check-in Listed in Brunch Spots ...</td>\n",
       "      <td>4.0 star rating</td>\n",
       "      <td>Good</td>\n",
       "      <td>2016-11-30</td>\n",
       "      <td>4</td>\n",
       "      <td>thefactorycafewithasoul</td>\n",
       "      <td>[1, checkin, listed, in, brunch, spots, i, lov...</td>\n",
       "    </tr>\n",
       "    <tr>\n",
       "      <th>3</th>\n",
       "      <td>The Factory - Cafe With a Soul</td>\n",
       "      <td>11/25/2016 Very cool decor! Good drinks Nice ...</td>\n",
       "      <td>2.0 star rating</td>\n",
       "      <td>Bad</td>\n",
       "      <td>2016-11-25</td>\n",
       "      <td>2</td>\n",
       "      <td>thefactorycafewithasoul</td>\n",
       "      <td>[very, cool, decor, good, drinks, nice, seatin...</td>\n",
       "    </tr>\n",
       "    <tr>\n",
       "      <th>4</th>\n",
       "      <td>The Factory - Cafe With a Soul</td>\n",
       "      <td>12/3/2016 1 check-in They are located within ...</td>\n",
       "      <td>4.0 star rating</td>\n",
       "      <td>Good</td>\n",
       "      <td>2016-12-03</td>\n",
       "      <td>4</td>\n",
       "      <td>thefactorycafewithasoul</td>\n",
       "      <td>[1, checkin, they, are, located, within, the, ...</td>\n",
       "    </tr>\n",
       "  </tbody>\n",
       "</table>\n",
       "</div>"
      ],
      "text/plain": [
       "                  coffee_shop_name  \\\n",
       "0  The Factory - Cafe With a Soul    \n",
       "1  The Factory - Cafe With a Soul    \n",
       "2  The Factory - Cafe With a Soul    \n",
       "3  The Factory - Cafe With a Soul    \n",
       "4  The Factory - Cafe With a Soul    \n",
       "\n",
       "                                    full_review_text        star_rating  \\\n",
       "0   11/25/2016 1 check-in Love love loved the atm...   5.0 star rating    \n",
       "1   12/2/2016 Listed in Date Night: Austin, Ambia...   4.0 star rating    \n",
       "2   11/30/2016 1 check-in Listed in Brunch Spots ...   4.0 star rating    \n",
       "3   11/25/2016 Very cool decor! Good drinks Nice ...   2.0 star rating    \n",
       "4   12/3/2016 1 check-in They are located within ...   4.0 star rating    \n",
       "\n",
       "  Good/Bad       Date  Rating                     Name  \\\n",
       "0     Good 2016-11-25       5  thefactorycafewithasoul   \n",
       "1     Good 2016-12-02       4  thefactorycafewithasoul   \n",
       "2     Good 2016-11-30       4  thefactorycafewithasoul   \n",
       "3      Bad 2016-11-25       2  thefactorycafewithasoul   \n",
       "4     Good 2016-12-03       4  thefactorycafewithasoul   \n",
       "\n",
       "                                              Tokens  \n",
       "0  [1, checkin, love, love, loved, the, atmospher...  \n",
       "1  [listed, in, date, night, austin, ambiance, in...  \n",
       "2  [1, checkin, listed, in, brunch, spots, i, lov...  \n",
       "3  [very, cool, decor, good, drinks, nice, seatin...  \n",
       "4  [1, checkin, they, are, located, within, the, ...  "
      ]
     },
     "execution_count": 110,
     "metadata": {},
     "output_type": "execute_result"
    }
   ],
   "source": [
    "unique_shops.head()"
   ]
  },
  {
   "cell_type": "code",
   "execution_count": 113,
   "metadata": {},
   "outputs": [
    {
     "data": {
      "text/plain": [
       "summermooncoffeebar              200\n",
       "epochcoffee                      200\n",
       "houndstoothcoffee                200\n",
       "caffmedici                       143\n",
       "apanascoffeebeer                 118\n",
       "                                ... \n",
       "luckylabcoffee                    25\n",
       "sistercoffee                      17\n",
       "kowabungacoffee                   16\n",
       "themarvelousvintageteapartyco     10\n",
       "lolasavannahcoffeedowntown         4\n",
       "Name: Name, Length: 78, dtype: int64"
      ]
     },
     "execution_count": 113,
     "metadata": {},
     "output_type": "execute_result"
    }
   ],
   "source": [
    "unique_shops['Name'].value_counts()"
   ]
  },
  {
   "cell_type": "code",
   "execution_count": null,
   "metadata": {},
   "outputs": [],
   "source": [
    "\"\"\"Epoch Coffee                            400\n",
    "Halcyon                                 300\n",
    "The Factory - Cafe With a Soul          244\n",
    "Houndstooth Coffee                      200\n",
    "Venezia Italian Gelato                  200\n",
    "\"\"\" # this vs what we have now"
   ]
  },
  {
   "cell_type": "code",
   "execution_count": 117,
   "metadata": {},
   "outputs": [],
   "source": [
    "good_shops = unique_shops[unique_shops['Good/Bad'] == \"Good\"].copy()\n",
    "bad_shops = unique_shops[unique_shops['Good/Bad'] == \"Bad\"].copy()"
   ]
  },
  {
   "cell_type": "code",
   "execution_count": 118,
   "metadata": {},
   "outputs": [
    {
     "data": {
      "text/html": [
       "<div>\n",
       "<style scoped>\n",
       "    .dataframe tbody tr th:only-of-type {\n",
       "        vertical-align: middle;\n",
       "    }\n",
       "\n",
       "    .dataframe tbody tr th {\n",
       "        vertical-align: top;\n",
       "    }\n",
       "\n",
       "    .dataframe thead th {\n",
       "        text-align: right;\n",
       "    }\n",
       "</style>\n",
       "<table border=\"1\" class=\"dataframe\">\n",
       "  <thead>\n",
       "    <tr style=\"text-align: right;\">\n",
       "      <th></th>\n",
       "      <th>coffee_shop_name</th>\n",
       "      <th>full_review_text</th>\n",
       "      <th>star_rating</th>\n",
       "      <th>Good/Bad</th>\n",
       "      <th>Date</th>\n",
       "      <th>Rating</th>\n",
       "      <th>Name</th>\n",
       "      <th>Tokens</th>\n",
       "    </tr>\n",
       "  </thead>\n",
       "  <tbody>\n",
       "    <tr>\n",
       "      <th>0</th>\n",
       "      <td>The Factory - Cafe With a Soul</td>\n",
       "      <td>11/25/2016 1 check-in Love love loved the atm...</td>\n",
       "      <td>5.0 star rating</td>\n",
       "      <td>Good</td>\n",
       "      <td>2016-11-25</td>\n",
       "      <td>5</td>\n",
       "      <td>thefactorycafewithasoul</td>\n",
       "      <td>[1, checkin, love, love, loved, the, atmospher...</td>\n",
       "    </tr>\n",
       "    <tr>\n",
       "      <th>1</th>\n",
       "      <td>The Factory - Cafe With a Soul</td>\n",
       "      <td>12/2/2016 Listed in Date Night: Austin, Ambia...</td>\n",
       "      <td>4.0 star rating</td>\n",
       "      <td>Good</td>\n",
       "      <td>2016-12-02</td>\n",
       "      <td>4</td>\n",
       "      <td>thefactorycafewithasoul</td>\n",
       "      <td>[listed, in, date, night, austin, ambiance, in...</td>\n",
       "    </tr>\n",
       "    <tr>\n",
       "      <th>2</th>\n",
       "      <td>The Factory - Cafe With a Soul</td>\n",
       "      <td>11/30/2016 1 check-in Listed in Brunch Spots ...</td>\n",
       "      <td>4.0 star rating</td>\n",
       "      <td>Good</td>\n",
       "      <td>2016-11-30</td>\n",
       "      <td>4</td>\n",
       "      <td>thefactorycafewithasoul</td>\n",
       "      <td>[1, checkin, listed, in, brunch, spots, i, lov...</td>\n",
       "    </tr>\n",
       "    <tr>\n",
       "      <th>4</th>\n",
       "      <td>The Factory - Cafe With a Soul</td>\n",
       "      <td>12/3/2016 1 check-in They are located within ...</td>\n",
       "      <td>4.0 star rating</td>\n",
       "      <td>Good</td>\n",
       "      <td>2016-12-03</td>\n",
       "      <td>4</td>\n",
       "      <td>thefactorycafewithasoul</td>\n",
       "      <td>[1, checkin, they, are, located, within, the, ...</td>\n",
       "    </tr>\n",
       "    <tr>\n",
       "      <th>5</th>\n",
       "      <td>The Factory - Cafe With a Soul</td>\n",
       "      <td>11/20/2016 1 check-in Very cute cafe! I think...</td>\n",
       "      <td>4.0 star rating</td>\n",
       "      <td>Good</td>\n",
       "      <td>2016-11-20</td>\n",
       "      <td>4</td>\n",
       "      <td>thefactorycafewithasoul</td>\n",
       "      <td>[1, checkin, very, cute, cafe, i, think, from,...</td>\n",
       "    </tr>\n",
       "  </tbody>\n",
       "</table>\n",
       "</div>"
      ],
      "text/plain": [
       "                  coffee_shop_name  \\\n",
       "0  The Factory - Cafe With a Soul    \n",
       "1  The Factory - Cafe With a Soul    \n",
       "2  The Factory - Cafe With a Soul    \n",
       "4  The Factory - Cafe With a Soul    \n",
       "5  The Factory - Cafe With a Soul    \n",
       "\n",
       "                                    full_review_text        star_rating  \\\n",
       "0   11/25/2016 1 check-in Love love loved the atm...   5.0 star rating    \n",
       "1   12/2/2016 Listed in Date Night: Austin, Ambia...   4.0 star rating    \n",
       "2   11/30/2016 1 check-in Listed in Brunch Spots ...   4.0 star rating    \n",
       "4   12/3/2016 1 check-in They are located within ...   4.0 star rating    \n",
       "5   11/20/2016 1 check-in Very cute cafe! I think...   4.0 star rating    \n",
       "\n",
       "  Good/Bad       Date  Rating                     Name  \\\n",
       "0     Good 2016-11-25       5  thefactorycafewithasoul   \n",
       "1     Good 2016-12-02       4  thefactorycafewithasoul   \n",
       "2     Good 2016-11-30       4  thefactorycafewithasoul   \n",
       "4     Good 2016-12-03       4  thefactorycafewithasoul   \n",
       "5     Good 2016-11-20       4  thefactorycafewithasoul   \n",
       "\n",
       "                                              Tokens  \n",
       "0  [1, checkin, love, love, loved, the, atmospher...  \n",
       "1  [listed, in, date, night, austin, ambiance, in...  \n",
       "2  [1, checkin, listed, in, brunch, spots, i, lov...  \n",
       "4  [1, checkin, they, are, located, within, the, ...  \n",
       "5  [1, checkin, very, cute, cafe, i, think, from,...  "
      ]
     },
     "execution_count": 118,
     "metadata": {},
     "output_type": "execute_result"
    }
   ],
   "source": [
    "good_shops.head()"
   ]
  },
  {
   "cell_type": "code",
   "execution_count": 119,
   "metadata": {},
   "outputs": [
    {
     "data": {
      "text/html": [
       "<div>\n",
       "<style scoped>\n",
       "    .dataframe tbody tr th:only-of-type {\n",
       "        vertical-align: middle;\n",
       "    }\n",
       "\n",
       "    .dataframe tbody tr th {\n",
       "        vertical-align: top;\n",
       "    }\n",
       "\n",
       "    .dataframe thead th {\n",
       "        text-align: right;\n",
       "    }\n",
       "</style>\n",
       "<table border=\"1\" class=\"dataframe\">\n",
       "  <thead>\n",
       "    <tr style=\"text-align: right;\">\n",
       "      <th></th>\n",
       "      <th>coffee_shop_name</th>\n",
       "      <th>full_review_text</th>\n",
       "      <th>star_rating</th>\n",
       "      <th>Good/Bad</th>\n",
       "      <th>Date</th>\n",
       "      <th>Rating</th>\n",
       "      <th>Name</th>\n",
       "      <th>Tokens</th>\n",
       "    </tr>\n",
       "  </thead>\n",
       "  <tbody>\n",
       "    <tr>\n",
       "      <th>3</th>\n",
       "      <td>The Factory - Cafe With a Soul</td>\n",
       "      <td>11/25/2016 Very cool decor! Good drinks Nice ...</td>\n",
       "      <td>2.0 star rating</td>\n",
       "      <td>Bad</td>\n",
       "      <td>2016-11-25</td>\n",
       "      <td>2</td>\n",
       "      <td>thefactorycafewithasoul</td>\n",
       "      <td>[very, cool, decor, good, drinks, nice, seatin...</td>\n",
       "    </tr>\n",
       "    <tr>\n",
       "      <th>8</th>\n",
       "      <td>The Factory - Cafe With a Soul</td>\n",
       "      <td>10/25/2016 1 check-in Ok, let's try this appr...</td>\n",
       "      <td>3.0 star rating</td>\n",
       "      <td>Bad</td>\n",
       "      <td>2016-10-25</td>\n",
       "      <td>3</td>\n",
       "      <td>thefactorycafewithasoul</td>\n",
       "      <td>[1, checkin, ok, lets, try, this, approach, pr...</td>\n",
       "    </tr>\n",
       "    <tr>\n",
       "      <th>11</th>\n",
       "      <td>The Factory - Cafe With a Soul</td>\n",
       "      <td>11/20/2016 The store has A+ decoration, but h...</td>\n",
       "      <td>3.0 star rating</td>\n",
       "      <td>Bad</td>\n",
       "      <td>2016-11-20</td>\n",
       "      <td>3</td>\n",
       "      <td>thefactorycafewithasoul</td>\n",
       "      <td>[the, store, has, a, decoration, but, honestly...</td>\n",
       "    </tr>\n",
       "    <tr>\n",
       "      <th>12</th>\n",
       "      <td>The Factory - Cafe With a Soul</td>\n",
       "      <td>11/17/2016 1 check-in Listed in 2016 - The Th...</td>\n",
       "      <td>3.0 star rating</td>\n",
       "      <td>Bad</td>\n",
       "      <td>2016-11-17</td>\n",
       "      <td>3</td>\n",
       "      <td>thefactorycafewithasoul</td>\n",
       "      <td>[1, checkin, listed, in, 2016, the, third, tim...</td>\n",
       "    </tr>\n",
       "    <tr>\n",
       "      <th>25</th>\n",
       "      <td>The Factory - Cafe With a Soul</td>\n",
       "      <td>12/2/2016 Okay, so after visiting my friends ...</td>\n",
       "      <td>1.0 star rating</td>\n",
       "      <td>Bad</td>\n",
       "      <td>2016-12-02</td>\n",
       "      <td>1</td>\n",
       "      <td>thefactorycafewithasoul</td>\n",
       "      <td>[okay, so, after, visiting, my, friends, in, l...</td>\n",
       "    </tr>\n",
       "  </tbody>\n",
       "</table>\n",
       "</div>"
      ],
      "text/plain": [
       "                   coffee_shop_name  \\\n",
       "3   The Factory - Cafe With a Soul    \n",
       "8   The Factory - Cafe With a Soul    \n",
       "11  The Factory - Cafe With a Soul    \n",
       "12  The Factory - Cafe With a Soul    \n",
       "25  The Factory - Cafe With a Soul    \n",
       "\n",
       "                                     full_review_text        star_rating  \\\n",
       "3    11/25/2016 Very cool decor! Good drinks Nice ...   2.0 star rating    \n",
       "8    10/25/2016 1 check-in Ok, let's try this appr...   3.0 star rating    \n",
       "11   11/20/2016 The store has A+ decoration, but h...   3.0 star rating    \n",
       "12   11/17/2016 1 check-in Listed in 2016 - The Th...   3.0 star rating    \n",
       "25   12/2/2016 Okay, so after visiting my friends ...   1.0 star rating    \n",
       "\n",
       "   Good/Bad       Date  Rating                     Name  \\\n",
       "3       Bad 2016-11-25       2  thefactorycafewithasoul   \n",
       "8       Bad 2016-10-25       3  thefactorycafewithasoul   \n",
       "11      Bad 2016-11-20       3  thefactorycafewithasoul   \n",
       "12      Bad 2016-11-17       3  thefactorycafewithasoul   \n",
       "25      Bad 2016-12-02       1  thefactorycafewithasoul   \n",
       "\n",
       "                                               Tokens  \n",
       "3   [very, cool, decor, good, drinks, nice, seatin...  \n",
       "8   [1, checkin, ok, lets, try, this, approach, pr...  \n",
       "11  [the, store, has, a, decoration, but, honestly...  \n",
       "12  [1, checkin, listed, in, 2016, the, third, tim...  \n",
       "25  [okay, so, after, visiting, my, friends, in, l...  "
      ]
     },
     "execution_count": 119,
     "metadata": {},
     "output_type": "execute_result"
    }
   ],
   "source": [
    "bad_shops.head()"
   ]
  },
  {
   "cell_type": "code",
   "execution_count": 123,
   "metadata": {},
   "outputs": [
    {
     "data": {
      "text/plain": [
       "summermooncoffeebar       172\n",
       "houndstoothcoffee         164\n",
       "epochcoffee               144\n",
       "caffmedici                115\n",
       "apanascoffeebeer          104\n",
       "veneziaitaliangelato       97\n",
       "saten                      95\n",
       "dolceneve                  94\n",
       "andersonscoffeecompany     91\n",
       "coronacoffee               90\n",
       "Name: Name, dtype: int64"
      ]
     },
     "execution_count": 123,
     "metadata": {},
     "output_type": "execute_result"
    }
   ],
   "source": [
    "good_shops['Name'].value_counts()[:10] #Good shops - # of reviews"
   ]
  },
  {
   "cell_type": "code",
   "execution_count": 124,
   "metadata": {},
   "outputs": [
    {
     "data": {
      "text/plain": [
       "epochcoffee                 56\n",
       "onceovercoffeebar           42\n",
       "strangebrewaustincoffee     40\n",
       "houndstoothcoffee           36\n",
       "kickbuttcoffeemusicbooze    34\n",
       "stinsons                    34\n",
       "pacha                       33\n",
       "cuvecoffeebar               33\n",
       "russellsbakery              31\n",
       "dominicanjoe                30\n",
       "Name: Name, dtype: int64"
      ]
     },
     "execution_count": 124,
     "metadata": {},
     "output_type": "execute_result"
    }
   ],
   "source": [
    "bad_shops['Name'].value_counts()[:10] #Bad shops - # of reviews. We can notice that some of them are at the top of \"good\" ones too"
   ]
  },
  {
   "cell_type": "code",
   "execution_count": 125,
   "metadata": {},
   "outputs": [
    {
     "data": {
      "text/plain": [
       "[('the', 24272),\n",
       " ('and', 19385),\n",
       " ('a', 16194),\n",
       " ('i', 13742),\n",
       " ('to', 11637),\n",
       " ('of', 9159),\n",
       " ('is', 8795),\n",
       " ('coffee', 7644),\n",
       " ('in', 6857),\n",
       " ('it', 6298)]"
      ]
     },
     "execution_count": 125,
     "metadata": {},
     "output_type": "execute_result"
    }
   ],
   "source": [
    "from collections import Counter \n",
    "\n",
    "word_counts = Counter() #takes interables, our tokens in this case\n",
    "\n",
    "good_shops['Tokens'].apply(lambda x: word_counts.update(x))\n",
    "\n",
    "word_counts.most_common(10) #bunch of stop words -.-"
   ]
  },
  {
   "cell_type": "code",
   "execution_count": 131,
   "metadata": {},
   "outputs": [],
   "source": [
    "def count(Tokens):\n",
    "    \n",
    "    word_counts = Counter()\n",
    "    appears_in = Counter()\n",
    "    \n",
    "    for token in Tokens:\n",
    "        word_counts.update(token) #stores count of each appearance of a work within a token \n",
    "        appears_in.update(set(token)) #using \"set\" to count avoiding duplicates of a word within a token \n",
    "        \n",
    "    #WORD COUNT STATS\n",
    "    temp = zip(word_counts.keys(), word_counts.values()) \n",
    "    wc = pd.DataFrame(temp, columns= ['word', 'count']) #creating df based on the tuple of tuples created with zip\n",
    "    \n",
    "    wc['rank'] = wc['count'].rank(method='first', ascending=False) #using first because it's already organized from the beginning by Counter() \n",
    "    total_words = wc['count'].sum()\n",
    "    \n",
    "    wc['pct_total'] = wc['count'].apply(lambda word_count: word_count/total_words) # pct of total instances of each word vs total words\n",
    "    \n",
    "    #cumulative % of total word count, starting from top to bottom ranked words\n",
    "    wc = wc.sort_values(by='rank') #using rank as our reference to start from the top ranked word \n",
    "    wc['cum_pct_total'] = wc['pct_total'].cumsum()\n",
    "    \n",
    "    #DOCUMENT STATS \n",
    "    \n",
    "    temp_2 = zip(appears_in.keys(), appears_in.values())\n",
    "    ac = pd.DataFrame(temp_2, columns=['word', 'appears_in'])\n",
    "    \n",
    "    wc = ac.merge(wc, on='word') #extending wc adding the instances per doc/token of a word \n",
    "    total_docs = len(Tokens)\n",
    "    wc['appears_in_pct'] = wc['appears_in'].apply(lambda instances: instances / total_docs)\n",
    "    \n",
    "    return wc.sort_values(by='rank') #sorted by most common words overall (not by unique instances per doc/token)\n",
    "        "
   ]
  },
  {
   "cell_type": "code",
   "execution_count": 134,
   "metadata": {},
   "outputs": [],
   "source": [
    "good_shops_wc = count(good_shops['Tokens'])"
   ]
  },
  {
   "cell_type": "code",
   "execution_count": 135,
   "metadata": {},
   "outputs": [
    {
     "data": {
      "text/html": [
       "<div>\n",
       "<style scoped>\n",
       "    .dataframe tbody tr th:only-of-type {\n",
       "        vertical-align: middle;\n",
       "    }\n",
       "\n",
       "    .dataframe tbody tr th {\n",
       "        vertical-align: top;\n",
       "    }\n",
       "\n",
       "    .dataframe thead th {\n",
       "        text-align: right;\n",
       "    }\n",
       "</style>\n",
       "<table border=\"1\" class=\"dataframe\">\n",
       "  <thead>\n",
       "    <tr style=\"text-align: right;\">\n",
       "      <th></th>\n",
       "      <th>word</th>\n",
       "      <th>appears_in</th>\n",
       "      <th>count</th>\n",
       "      <th>rank</th>\n",
       "      <th>pct_total</th>\n",
       "      <th>cum_pct_total</th>\n",
       "      <th>appears_in_pct</th>\n",
       "    </tr>\n",
       "  </thead>\n",
       "  <tbody>\n",
       "    <tr>\n",
       "      <th>32</th>\n",
       "      <td>the</td>\n",
       "      <td>4986</td>\n",
       "      <td>24272</td>\n",
       "      <td>1.0</td>\n",
       "      <td>0.044632</td>\n",
       "      <td>0.044632</td>\n",
       "      <td>0.892110</td>\n",
       "    </tr>\n",
       "    <tr>\n",
       "      <th>44</th>\n",
       "      <td>and</td>\n",
       "      <td>5057</td>\n",
       "      <td>19385</td>\n",
       "      <td>2.0</td>\n",
       "      <td>0.035646</td>\n",
       "      <td>0.080277</td>\n",
       "      <td>0.904813</td>\n",
       "    </tr>\n",
       "    <tr>\n",
       "      <th>49</th>\n",
       "      <td>a</td>\n",
       "      <td>4558</td>\n",
       "      <td>16194</td>\n",
       "      <td>3.0</td>\n",
       "      <td>0.029778</td>\n",
       "      <td>0.110055</td>\n",
       "      <td>0.815531</td>\n",
       "    </tr>\n",
       "    <tr>\n",
       "      <th>37</th>\n",
       "      <td>i</td>\n",
       "      <td>3985</td>\n",
       "      <td>13742</td>\n",
       "      <td>4.0</td>\n",
       "      <td>0.025269</td>\n",
       "      <td>0.135324</td>\n",
       "      <td>0.713008</td>\n",
       "    </tr>\n",
       "    <tr>\n",
       "      <th>61</th>\n",
       "      <td>to</td>\n",
       "      <td>4055</td>\n",
       "      <td>11637</td>\n",
       "      <td>5.0</td>\n",
       "      <td>0.021398</td>\n",
       "      <td>0.156723</td>\n",
       "      <td>0.725532</td>\n",
       "    </tr>\n",
       "  </tbody>\n",
       "</table>\n",
       "</div>"
      ],
      "text/plain": [
       "   word  appears_in  count  rank  pct_total  cum_pct_total  appears_in_pct\n",
       "32  the        4986  24272   1.0   0.044632       0.044632        0.892110\n",
       "44  and        5057  19385   2.0   0.035646       0.080277        0.904813\n",
       "49    a        4558  16194   3.0   0.029778       0.110055        0.815531\n",
       "37    i        3985  13742   4.0   0.025269       0.135324        0.713008\n",
       "61   to        4055  11637   5.0   0.021398       0.156723        0.725532"
      ]
     },
     "execution_count": 135,
     "metadata": {},
     "output_type": "execute_result"
    }
   ],
   "source": [
    "good_shops_wc.head() #GOOD SHOPS "
   ]
  },
  {
   "cell_type": "code",
   "execution_count": 136,
   "metadata": {},
   "outputs": [
    {
     "data": {
      "text/html": [
       "<div>\n",
       "<style scoped>\n",
       "    .dataframe tbody tr th:only-of-type {\n",
       "        vertical-align: middle;\n",
       "    }\n",
       "\n",
       "    .dataframe tbody tr th {\n",
       "        vertical-align: top;\n",
       "    }\n",
       "\n",
       "    .dataframe thead th {\n",
       "        text-align: right;\n",
       "    }\n",
       "</style>\n",
       "<table border=\"1\" class=\"dataframe\">\n",
       "  <thead>\n",
       "    <tr style=\"text-align: right;\">\n",
       "      <th></th>\n",
       "      <th>word</th>\n",
       "      <th>appears_in</th>\n",
       "      <th>count</th>\n",
       "      <th>rank</th>\n",
       "      <th>pct_total</th>\n",
       "      <th>cum_pct_total</th>\n",
       "      <th>appears_in_pct</th>\n",
       "    </tr>\n",
       "  </thead>\n",
       "  <tbody>\n",
       "    <tr>\n",
       "      <th>18</th>\n",
       "      <td>the</td>\n",
       "      <td>1222</td>\n",
       "      <td>7243</td>\n",
       "      <td>1.0</td>\n",
       "      <td>0.045813</td>\n",
       "      <td>0.045813</td>\n",
       "      <td>0.921569</td>\n",
       "    </tr>\n",
       "    <tr>\n",
       "      <th>31</th>\n",
       "      <td>and</td>\n",
       "      <td>1181</td>\n",
       "      <td>4747</td>\n",
       "      <td>2.0</td>\n",
       "      <td>0.030025</td>\n",
       "      <td>0.075839</td>\n",
       "      <td>0.890649</td>\n",
       "    </tr>\n",
       "    <tr>\n",
       "      <th>73</th>\n",
       "      <td>i</td>\n",
       "      <td>1065</td>\n",
       "      <td>4709</td>\n",
       "      <td>3.0</td>\n",
       "      <td>0.029785</td>\n",
       "      <td>0.105624</td>\n",
       "      <td>0.803167</td>\n",
       "    </tr>\n",
       "    <tr>\n",
       "      <th>35</th>\n",
       "      <td>a</td>\n",
       "      <td>1130</td>\n",
       "      <td>4427</td>\n",
       "      <td>4.0</td>\n",
       "      <td>0.028001</td>\n",
       "      <td>0.133625</td>\n",
       "      <td>0.852187</td>\n",
       "    </tr>\n",
       "    <tr>\n",
       "      <th>188</th>\n",
       "      <td>to</td>\n",
       "      <td>1071</td>\n",
       "      <td>3897</td>\n",
       "      <td>5.0</td>\n",
       "      <td>0.024649</td>\n",
       "      <td>0.158274</td>\n",
       "      <td>0.807692</td>\n",
       "    </tr>\n",
       "  </tbody>\n",
       "</table>\n",
       "</div>"
      ],
      "text/plain": [
       "    word  appears_in  count  rank  pct_total  cum_pct_total  appears_in_pct\n",
       "18   the        1222   7243   1.0   0.045813       0.045813        0.921569\n",
       "31   and        1181   4747   2.0   0.030025       0.075839        0.890649\n",
       "73     i        1065   4709   3.0   0.029785       0.105624        0.803167\n",
       "35     a        1130   4427   4.0   0.028001       0.133625        0.852187\n",
       "188   to        1071   3897   5.0   0.024649       0.158274        0.807692"
      ]
     },
     "execution_count": 136,
     "metadata": {},
     "output_type": "execute_result"
    }
   ],
   "source": [
    "bad_shops_wc = count(bad_shops['Tokens'])\n",
    "bad_shops_wc.head() #BAD SHOPS "
   ]
  },
  {
   "cell_type": "code",
   "execution_count": 143,
   "metadata": {},
   "outputs": [
    {
     "data": {
      "text/plain": [
       "<AxesSubplot:xlabel='rank', ylabel='cum_pct_total'>"
      ]
     },
     "execution_count": 143,
     "metadata": {},
     "output_type": "execute_result"
    },
    {
     "data": {
      "image/png": "[encoded data removed]",
      "text/plain": [
       "<Figure size 432x288 with 1 Axes>"
      ]
     },
     "metadata": {
      "needs_background": "light"
     },
     "output_type": "display_data"
    }
   ],
   "source": [
    "import seaborn as sns\n",
    "\n",
    "sns.lineplot(x='rank', y='cum_pct_total', data=bad_shops_wc.iloc[:50]) #plotting the top50 rank and cum_pct"
   ]
  },
  {
   "cell_type": "code",
   "execution_count": 146,
   "metadata": {},
   "outputs": [
    {
     "data": {
      "text/plain": [
       "18     0.045813\n",
       "31     0.075839\n",
       "73     0.105624\n",
       "35     0.133625\n",
       "188    0.158274\n",
       "347    0.174878\n",
       "5      0.189723\n",
       "8      0.203594\n",
       "40     0.216415\n",
       "29     0.228192\n",
       "27     0.239818\n",
       "17     0.251399\n",
       "211    0.261754\n",
       "33     0.271267\n",
       "263    0.279774\n",
       "159    0.287769\n",
       "144    0.295751\n",
       "127    0.302918\n",
       "221    0.310021\n",
       "92     0.316460\n",
       "Name: cum_pct_total, dtype: float64"
      ]
     },
     "execution_count": 146,
     "metadata": {},
     "output_type": "execute_result"
    }
   ],
   "source": [
    "bad_shops_wc[bad_shops_wc['rank'] < 21]['cum_pct_total'] # detailed cum_pct of the top20 rank"
   ]
  },
  {
   "cell_type": "code",
   "execution_count": 147,
   "metadata": {},
   "outputs": [
    {
     "data": {
      "image/png": "[encoded data removed]",
      "text/plain": [
       "<Figure size 432x288 with 1 Axes>"
      ]
     },
     "metadata": {
      "needs_background": "light"
     },
     "output_type": "display_data"
    }
   ],
   "source": [
    "import squarify\n",
    "import matplotlib.pyplot as plt\n",
    "\n",
    "bad_top20 = bad_shops_wc[bad_shops_wc['rank'] < 21]\n",
    "\n",
    "squarify.plot(sizes=bad_top20['pct_total'], label=bad_top20['word'], alpha=.8) # word map of BAD SHOPS\n",
    "plt.axis('off')\n",
    "plt.show()"
   ]
  },
  {
   "cell_type": "code",
   "execution_count": 148,
   "metadata": {},
   "outputs": [
    {
     "data": {
      "image/png": "[encoded data removed]",
      "text/plain": [
       "<Figure size 432x288 with 1 Axes>"
      ]
     },
     "metadata": {
      "needs_background": "light"
     },
     "output_type": "display_data"
    }
   ],
   "source": [
    "good_top20 = good_shops_wc[good_shops_wc['rank'] < 21]\n",
    "\n",
    "squarify.plot(sizes=good_top20['pct_total'], label=good_top20['word'], alpha=.8) # word map of GOOD SHOPS\n",
    "plt.axis('off')\n",
    "plt.show()"
   ]
  },
  {
   "cell_type": "code",
   "execution_count": 149,
   "metadata": {},
   "outputs": [],
   "source": [
    "import spacy\n",
    "nlp = spacy.load('en_core_web_md')"
   ]
  },
  {
   "cell_type": "code",
   "execution_count": 151,
   "metadata": {},
   "outputs": [],
   "source": [
    "sample = \"\"\"\n",
    "Natural Language Processing Summary\n",
    "The field of study that focuses on the interactions between human language and computers is called Natural Language Processing, or NLP for short. It sits at the intersection of computer science, artificial intelligence, and computational linguistics (Wikipedia).\n",
    "\n",
    "“Nat­ur­al Lan­guage Pro­cessing is a field that cov­ers com­puter un­der­stand­ing and ma­nip­u­la­tion of hu­man lan­guage, and it’s ripe with pos­sib­il­it­ies for news­gath­er­ing,” Anthony Pesce said in Natural Language Processing in the kitchen. “You usu­ally hear about it in the con­text of ana­lyz­ing large pools of legis­la­tion or other doc­u­ment sets, at­tempt­ing to dis­cov­er pat­terns or root out cor­rup­tion.”\n",
    "\n",
    "\"\"\""
   ]
  },
  {
   "cell_type": "code",
   "execution_count": 152,
   "metadata": {},
   "outputs": [],
   "source": [
    "doc = nlp(sample)"
   ]
  },
  {
   "cell_type": "code",
   "execution_count": 157,
   "metadata": {},
   "outputs": [],
   "source": [
    "\n",
    "#TOKENIZER USING SPACY\n",
    "\n",
    "spacy_tokens = []\n",
    "\n",
    "for doc in nlp.pipe(good_shops['full_review_text']): #GOOD SHOPS \n",
    "    doc_tokens = []\n",
    "    for token in doc:\n",
    "        doc_tokens.append(token.text)\n",
    "    spacy_tokens.append(doc_tokens)\n",
    "\n",
    "good_shops['spacy_tokens'] = spacy_tokens "
   ]
  },
  {
   "cell_type": "code",
   "execution_count": 158,
   "metadata": {},
   "outputs": [
    {
     "data": {
      "image/png": "[encoded data removed]",
      "text/plain": [
       "<Figure size 432x288 with 1 Axes>"
      ]
     },
     "metadata": {
      "needs_background": "light"
     },
     "output_type": "display_data"
    }
   ],
   "source": [
    "#CREATE THE WORD COUNT DF FOR STATS\n",
    "\n",
    "def square_top_20(tokens):\n",
    "    wc = count(tokens)\n",
    "    wc_top20 = wc[wc['rank'] < 21]\n",
    "    \n",
    "    squarify.plot(sizes=wc_top20['pct_total'], label=wc_top20['word'], alpha=.8)\n",
    "    plt.axis('off')\n",
    "    return plt\n",
    "\n",
    "square_top_20(good_shops['spacy_tokens']).show() #GOOD SHOPS SQUARIFY\n",
    "    "
   ]
  },
  {
   "cell_type": "code",
   "execution_count": 171,
   "metadata": {},
   "outputs": [
    {
     "data": {
      "text/plain": [
       "{'afterwards',\n",
       " 'another',\n",
       " 'everywhere',\n",
       " 'for',\n",
       " 'made',\n",
       " 'name',\n",
       " 'namely',\n",
       " 'over',\n",
       " 'yours',\n",
       " '‘m'}"
      ]
     },
     "execution_count": 171,
     "metadata": {},
     "output_type": "execute_result"
    }
   ],
   "source": [
    "import itertools\n",
    "\n",
    "set(itertools.islice(nlp.Defaults.stop_words, 10)) #random slice "
   ]
  },
  {
   "cell_type": "code",
   "execution_count": 182,
   "metadata": {},
   "outputs": [],
   "source": [
    "def cut_dates(text): # getting rid of the date that appears on each text row\n",
    "    output = text.lstrip().split()[1:]\n",
    "    output = \" \".join(output)\n",
    "    return output\n",
    "\n",
    "def final_tokenizer(text_col):\n",
    "    \n",
    "    new_col = text_col.apply(cut_dates)\n",
    "    \n",
    "    tokens = []\n",
    "    \n",
    "    for doc in nlp.pipe(new_col):\n",
    "        \n",
    "        doc_tokens = []\n",
    "        \n",
    "        for token in doc:\n",
    "            if (not token.is_stop) & (not token.is_punct): # & (token.text.lower()) not in STOP_WORDS \n",
    "                doc_tokens.append(token.text.lower())\n",
    "        \n",
    "        tokens.append(doc_tokens)\n",
    "    \n",
    "    \"\"\"\n",
    "    if we were to apply statistical stopword trimming we should do it here:\n",
    "    wc = count(tokens)\n",
    "    and start the process again with a conditional related to the \"appears_in_pct\"\n",
    "        \n",
    "    \"\"\"\n",
    "    return tokens "
   ]
  },
  {
   "cell_type": "code",
   "execution_count": 183,
   "metadata": {},
   "outputs": [],
   "source": [
    "good_shops['final_tokens'] = final_tokenizer(good_shops['full_review_text'])"
   ]
  },
  {
   "cell_type": "code",
   "execution_count": 184,
   "metadata": {},
   "outputs": [
    {
     "data": {
      "text/plain": [
       "<module 'matplotlib.pyplot' from '/anaconda2/envs/U4-S1-NLP/lib/python3.7/site-packages/matplotlib/pyplot.py'>"
      ]
     },
     "execution_count": 184,
     "metadata": {},
     "output_type": "execute_result"
    },
    {
     "data": {
      "image/png": "[encoded data removed]",
      "text/plain": [
       "<Figure size 432x288 with 1 Axes>"
      ]
     },
     "metadata": {
      "needs_background": "light"
     },
     "output_type": "display_data"
    }
   ],
   "source": [
    "square_top_20(good_shops['final_tokens'])"
   ]
  },
  {
   "cell_type": "code",
   "execution_count": null,
   "metadata": {},
   "outputs": [],
   "source": [
    "# in case we want to extend the stop words I left a commented extension within the final_tokenizer referrencing STOP_WORDS below\n",
    "# STOP_WORDS = nlp.Defaults.stop_words.union(['a', 'b', 'c'])"
   ]
  },
  {
   "cell_type": "code",
   "execution_count": 191,
   "metadata": {},
   "outputs": [
    {
     "data": {
      "text/plain": [
       "<AxesSubplot:xlabel='appears_in_pct'>"
      ]
     },
     "execution_count": 191,
     "metadata": {},
     "output_type": "execute_result"
    },
    {
     "data": {
      "image/png": "[encoded data removed]",
      "text/plain": [
       "<Figure size 432x288 with 1 Axes>"
      ]
     },
     "metadata": {
      "needs_background": "light"
     },
     "output_type": "display_data"
    }
   ],
   "source": [
    "good_shops_wc = count(good_shops['final_tokens']) #updating the df since we have better tokens, but no time to update bad_shops\n",
    "\n",
    "sns.distplot(good_shops_wc['appears_in_pct'])\n"
   ]
  },
  {
   "cell_type": "code",
   "execution_count": 192,
   "metadata": {},
   "outputs": [
    {
     "data": {
      "text/plain": [
       "<AxesSubplot:xlabel='appears_in_pct'>"
      ]
     },
     "execution_count": 192,
     "metadata": {},
     "output_type": "execute_result"
    },
    {
     "data": {
      "image/png": "[encoded data removed]",
      "text/plain": [
       "<Figure size 432x288 with 1 Axes>"
      ]
     },
     "metadata": {
      "needs_background": "light"
     },
     "output_type": "display_data"
    }
   ],
   "source": [
    "query = good_shops_wc[good_shops_wc['appears_in_pct'] >= 0.025]\n",
    "sns.distplot(query['appears_in_pct'])"
   ]
  },
  {
   "cell_type": "code",
   "execution_count": 193,
   "metadata": {},
   "outputs": [],
   "source": [
    "#token.lemma_"
   ]
  },
  {
   "cell_type": "code",
   "execution_count": 194,
   "metadata": {},
   "outputs": [
    {
     "name": "stdout",
     "output_type": "stream",
     "text": [
      "men    man\n",
      "man    man\n",
      "women    women\n",
      "woman    woman\n",
      "wolf    wolf\n",
      "wolves    wolf\n",
      "run    run\n",
      "runs    run\n",
      "running    run\n",
      "go    go\n",
      "going    go\n",
      "went    go\n",
      "gone    go\n"
     ]
    }
   ],
   "source": [
    "sent = \"men man women woman wolf wolves run runs running go going went gone\"\n",
    "doc = nlp(sent) # I can nlp a string and work from there at a unit level, useful for our super tokenizer stat-trimming\n",
    "\n",
    "# Lemma Attributes\n",
    "for token in doc:\n",
    "    print(token.text, \"  \", token.lemma_)"
   ]
  },
  {
   "cell_type": "code",
   "execution_count": 197,
   "metadata": {},
   "outputs": [],
   "source": [
    "#STEMMING"
   ]
  },
  {
   "cell_type": "code",
   "execution_count": 196,
   "metadata": {},
   "outputs": [
    {
     "name": "stdout",
     "output_type": "stream",
     "text": [
      "is\n",
      "wa\n",
      "be\n",
      "are\n",
      "mess\n",
      "mess\n",
      "feed\n",
      "mix\n",
      "tie\n"
     ]
    }
   ],
   "source": [
    "from nltk.stem import PorterStemmer\n",
    "\n",
    "ps = PorterStemmer()\n",
    "\n",
    "words = [\"is\", \"was\", \"be\", \"are\", \"messed\", \"mess\", \"feed\", \"mixed\", \"tied\"]\n",
    "\n",
    "for word in words:\n",
    "    print(ps.stem(word))"
   ]
  },
  {
   "cell_type": "code",
   "execution_count": null,
   "metadata": {},
   "outputs": [],
   "source": []
  },
  {
   "cell_type": "code",
   "execution_count": null,
   "metadata": {},
   "outputs": [],
   "source": []
  }
 ],
 "metadata": {
  "kernelspec": {
   "display_name": "U4-S1-NLP (Python3)",
   "language": "python",
   "name": "u4-s1-nlp"
  },
  "language_info": {
   "codemirror_mode": {
    "name": "ipython",
    "version": 3
   },
   "file_extension": ".py",
   "mimetype": "text/x-python",
   "name": "python",
   "nbconvert_exporter": "python",
   "pygments_lexer": "ipython3",
   "version": "3.7.0"
  }
 },
 "nbformat": 4,
 "nbformat_minor": 2
}
